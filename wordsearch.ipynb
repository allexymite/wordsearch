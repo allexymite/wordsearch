{
 "cells": [
  {
   "cell_type": "code",
   "execution_count": 3,
   "metadata": {},
   "outputs": [],
   "source": [
    "import random\n",
    "import string\n",
    "\n",
    "def generate_word_search(words, size=15):\n",
    "    # Create an empty grid\n",
    "    grid = [[\" \" for _ in range(size)] for _ in range(size)]\n",
    "    \n",
    "    def place_word(word):\n",
    "        word = word.upper()\n",
    "        word_len = len(word)\n",
    "        orientations = [(1, 0), (0, 1), (1, 1), (1, -1)]  # Horizontal, Vertical, Diagonal (2 directions)\n",
    "        random.shuffle(orientations)\n",
    "\n",
    "        for _ in range(100):  # Try 100 random placements\n",
    "            direction = random.choice(orientations)\n",
    "            start_row = random.randint(0, size - 1)\n",
    "            start_col = random.randint(0, size - 1)\n",
    "            end_row = start_row + direction[0] * (word_len - 1)\n",
    "            end_col = start_col + direction[1] * (word_len - 1)\n",
    "\n",
    "            # Check boundaries\n",
    "            if not (0 <= end_row < size and 0 <= end_col < size):\n",
    "                continue\n",
    "\n",
    "            # Check for overlap\n",
    "            can_place = True\n",
    "            row, col = start_row, start_col\n",
    "            for letter in word:\n",
    "                if grid[row][col] not in (\" \", letter):\n",
    "                    can_place = False\n",
    "                    break\n",
    "                row += direction[0]\n",
    "                col += direction[1]\n",
    "\n",
    "            if can_place:\n",
    "                # Place the word\n",
    "                row, col = start_row, start_col\n",
    "                for letter in word:\n",
    "                    grid[row][col] = letter\n",
    "                    row += direction[0]\n",
    "                    col += direction[1]\n",
    "                return True\n",
    "        return False\n",
    "\n",
    "    # Place all words in the grid\n",
    "    for word in words:\n",
    "        if not place_word(word):\n",
    "            print(f\"Could not place the word: {word}\")\n",
    "\n",
    "    # Fill remaining spaces with random letters\n",
    "    for row in range(size):\n",
    "        for col in range(size):\n",
    "            if grid[row][col] == \" \":\n",
    "                grid[row][col] = random.choice(string.ascii_uppercase)\n",
    "\n",
    "    return grid\n"
   ]
  },
  {
   "cell_type": "code",
   "execution_count": 4,
   "metadata": {},
   "outputs": [],
   "source": [
    "from docx import Document\n",
    "\n",
    "def save_to_docx(grid, words, filename=\"word_search.docx\"):\n",
    "    doc = Document()\n",
    "    doc.add_heading(\"Word Search Puzzle\", level=1)\n",
    "\n",
    "    # Add grid\n",
    "    table = doc.add_table(rows=len(grid), cols=len(grid[0]))\n",
    "    for i, row in enumerate(grid):\n",
    "        for j, letter in enumerate(row):\n",
    "            cell = table.cell(i, j)\n",
    "            cell.text = letter\n",
    "            cell.width = 300000  # Adjust cell width as needed\n",
    "\n",
    "    # Add word list\n",
    "    doc.add_paragraph(\"\\nWords to Find:\")\n",
    "    for word in words:\n",
    "        doc.add_paragraph(word.upper())\n",
    "\n",
    "    doc.save(filename)\n",
    "    print(f\"Saved to {filename}\")\n"
   ]
  },
  {
   "cell_type": "code",
   "execution_count": 6,
   "metadata": {},
   "outputs": [
    {
     "name": "stdout",
     "output_type": "stream",
     "text": [
      "Saved to word_search.docx\n"
     ]
    }
   ],
   "source": [
    "word_list = [\"python\", \"coding\", \"puzzle\", \"word\", \"search\", \"grid\", \"challenge\"]\n",
    "grid_size = 15\n",
    "grid = generate_word_search(word_list, size=grid_size)\n",
    "save_to_docx(grid, word_list)\n"
   ]
  }
 ],
 "metadata": {
  "kernelspec": {
   "display_name": "Python 3",
   "language": "python",
   "name": "python3"
  },
  "language_info": {
   "codemirror_mode": {
    "name": "ipython",
    "version": 3
   },
   "file_extension": ".py",
   "mimetype": "text/x-python",
   "name": "python",
   "nbconvert_exporter": "python",
   "pygments_lexer": "ipython3",
   "version": "3.10.12"
  }
 },
 "nbformat": 4,
 "nbformat_minor": 2
}
